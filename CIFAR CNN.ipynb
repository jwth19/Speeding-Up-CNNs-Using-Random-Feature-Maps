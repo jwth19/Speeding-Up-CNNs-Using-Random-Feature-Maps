{
 "cells": [
  {
   "cell_type": "code",
   "execution_count": 1,
   "metadata": {},
   "outputs": [
    {
     "name": "stderr",
     "output_type": "stream",
     "text": [
      "Using TensorFlow backend.\n",
      "/Users/jackholder/anaconda2/envs/tensorflow/lib/python3.6/importlib/_bootstrap.py:219: RuntimeWarning: compiletime version 3.5 of module 'tensorflow.python.framework.fast_tensor_util' does not match runtime version 3.6\n",
      "  return f(*args, **kwds)\n"
     ]
    }
   ],
   "source": [
    "import numpy\n",
    "from keras.datasets import cifar10\n",
    "from keras.models import Sequential\n",
    "from keras.layers import Dense\n",
    "from keras.layers import Dropout\n",
    "from keras.layers import Flatten\n",
    "from keras.constraints import maxnorm\n",
    "from keras.optimizers import SGD\n",
    "from keras.layers.convolutional import Conv2D\n",
    "from keras.layers.convolutional import MaxPooling2D\n",
    "from keras.utils import np_utils\n",
    "from keras import backend as K\n",
    "K.set_image_dim_ordering('th')"
   ]
  },
  {
   "cell_type": "code",
   "execution_count": 2,
   "metadata": {},
   "outputs": [],
   "source": [
    "numpy.random.seed(10)"
   ]
  },
  {
   "cell_type": "code",
   "execution_count": 3,
   "metadata": {},
   "outputs": [
    {
     "name": "stdout",
     "output_type": "stream",
     "text": [
      "Downloading data from http://www.cs.toronto.edu/~kriz/cifar-10-python.tar.gz\n",
      "170434560/170498071 [============================>.] - ETA: 0s"
     ]
    }
   ],
   "source": [
    "(X_train, y_train), (X_test, y_test) = cifar10.load_data()"
   ]
  },
  {
   "cell_type": "code",
   "execution_count": 4,
   "metadata": {},
   "outputs": [],
   "source": [
    "X_train = X_train.astype('float32')\n",
    "X_test = X_test.astype('float32')\n",
    "X_train = X_train / 255.0\n",
    "X_test = X_test / 255.0"
   ]
  },
  {
   "cell_type": "code",
   "execution_count": 5,
   "metadata": {},
   "outputs": [],
   "source": [
    "y_train = np_utils.to_categorical(y_train)\n",
    "y_test = np_utils.to_categorical(y_test)\n",
    "num_classes = y_test.shape[1]"
   ]
  },
  {
   "cell_type": "code",
   "execution_count": 6,
   "metadata": {},
   "outputs": [
    {
     "name": "stdout",
     "output_type": "stream",
     "text": [
      "_________________________________________________________________\n",
      "Layer (type)                 Output Shape              Param #   \n",
      "=================================================================\n",
      "conv2d_1 (Conv2D)            (None, 32, 32, 32)        896       \n",
      "_________________________________________________________________\n",
      "dropout_1 (Dropout)          (None, 32, 32, 32)        0         \n",
      "_________________________________________________________________\n",
      "conv2d_2 (Conv2D)            (None, 32, 32, 32)        9248      \n",
      "_________________________________________________________________\n",
      "max_pooling2d_1 (MaxPooling2 (None, 32, 16, 16)        0         \n",
      "_________________________________________________________________\n",
      "flatten_1 (Flatten)          (None, 8192)              0         \n",
      "_________________________________________________________________\n",
      "dense_1 (Dense)              (None, 512)               4194816   \n",
      "_________________________________________________________________\n",
      "dropout_2 (Dropout)          (None, 512)               0         \n",
      "_________________________________________________________________\n",
      "dense_2 (Dense)              (None, 10)                5130      \n",
      "=================================================================\n",
      "Total params: 4,210,090\n",
      "Trainable params: 4,210,090\n",
      "Non-trainable params: 0\n",
      "_________________________________________________________________\n",
      "None\n"
     ]
    }
   ],
   "source": [
    "model = Sequential()\n",
    "model.add(Conv2D(32, (3, 3), input_shape=(3, 32, 32), padding='same', activation='relu', kernel_constraint=maxnorm(3)))\n",
    "model.add(Dropout(0.2))\n",
    "model.add(Conv2D(32, (3, 3), activation='relu', padding='same', kernel_constraint=maxnorm(3)))\n",
    "model.add(MaxPooling2D(pool_size=(2, 2)))\n",
    "model.add(Flatten())\n",
    "model.add(Dense(512, activation='relu', kernel_constraint=maxnorm(3)))\n",
    "model.add(Dropout(0.5))\n",
    "model.add(Dense(num_classes, activation='softmax'))\n",
    "\n",
    "epochs = 25\n",
    "lrate = 0.01\n",
    "decay = lrate/epochs\n",
    "sgd = SGD(lr=lrate, momentum=0.9, decay=decay, nesterov=False)\n",
    "model.compile(loss='categorical_crossentropy', optimizer=sgd, metrics=['accuracy'])\n",
    "print(model.summary())"
   ]
  },
  {
   "cell_type": "code",
   "execution_count": 7,
   "metadata": {},
   "outputs": [
    {
     "name": "stdout",
     "output_type": "stream",
     "text": [
      "Train on 50000 samples, validate on 10000 samples\n",
      "Epoch 1/25\n",
      "50000/50000 [==============================] - 579s - loss: 1.7179 - acc: 0.3760 - val_loss: 1.4273 - val_acc: 0.4793\n",
      "Epoch 2/25\n",
      "50000/50000 [==============================] - 557s - loss: 1.3367 - acc: 0.5192 - val_loss: 1.1635 - val_acc: 0.5842\n",
      "Epoch 3/25\n",
      "50000/50000 [==============================] - 561s - loss: 1.1654 - acc: 0.5833 - val_loss: 1.1009 - val_acc: 0.6042\n",
      "Epoch 4/25\n",
      "50000/50000 [==============================] - 557s - loss: 1.0463 - acc: 0.6253 - val_loss: 1.0499 - val_acc: 0.6286\n",
      "Epoch 5/25\n",
      "50000/50000 [==============================] - 560s - loss: 0.9525 - acc: 0.6625 - val_loss: 0.9867 - val_acc: 0.6487\n",
      "Epoch 6/25\n",
      "50000/50000 [==============================] - 560s - loss: 0.8720 - acc: 0.6907 - val_loss: 0.9716 - val_acc: 0.6572\n",
      "Epoch 7/25\n",
      "50000/50000 [==============================] - 565s - loss: 0.8057 - acc: 0.7137 - val_loss: 0.9354 - val_acc: 0.6721\n",
      "Epoch 8/25\n",
      "50000/50000 [==============================] - 562s - loss: 0.7357 - acc: 0.7395 - val_loss: 0.9472 - val_acc: 0.6744\n",
      "Epoch 9/25\n",
      "50000/50000 [==============================] - 562s - loss: 0.6908 - acc: 0.7560 - val_loss: 0.9487 - val_acc: 0.6768\n",
      "Epoch 10/25\n",
      "50000/50000 [==============================] - 558s - loss: 0.6352 - acc: 0.7748 - val_loss: 0.9432 - val_acc: 0.6773\n",
      "Epoch 11/25\n",
      "50000/50000 [==============================] - 554s - loss: 0.5912 - acc: 0.7893 - val_loss: 0.9424 - val_acc: 0.6827\n",
      "Epoch 12/25\n",
      "50000/50000 [==============================] - 538s - loss: 0.5416 - acc: 0.8093 - val_loss: 0.9580 - val_acc: 0.6837\n",
      "Epoch 13/25\n",
      "50000/50000 [==============================] - 539s - loss: 0.5080 - acc: 0.8204 - val_loss: 0.9738 - val_acc: 0.6868\n",
      "Epoch 14/25\n",
      "50000/50000 [==============================] - 539s - loss: 0.4727 - acc: 0.8340 - val_loss: 0.9580 - val_acc: 0.6910\n",
      "Epoch 15/25\n",
      "50000/50000 [==============================] - 538s - loss: 0.4448 - acc: 0.8412 - val_loss: 0.9672 - val_acc: 0.6932\n",
      "Epoch 16/25\n",
      "50000/50000 [==============================] - 539s - loss: 0.4121 - acc: 0.8545 - val_loss: 0.9927 - val_acc: 0.6913\n",
      "Epoch 17/25\n",
      "50000/50000 [==============================] - 539s - loss: 0.3911 - acc: 0.8629 - val_loss: 0.9905 - val_acc: 0.6956\n",
      "Epoch 18/25\n",
      "50000/50000 [==============================] - 539s - loss: 0.3650 - acc: 0.8718 - val_loss: 1.0226 - val_acc: 0.6910\n",
      "Epoch 19/25\n",
      "50000/50000 [==============================] - 539s - loss: 0.3450 - acc: 0.8772 - val_loss: 1.0097 - val_acc: 0.6949\n",
      "Epoch 20/25\n",
      "50000/50000 [==============================] - 538s - loss: 0.3254 - acc: 0.8855 - val_loss: 1.0218 - val_acc: 0.6997\n",
      "Epoch 21/25\n",
      "50000/50000 [==============================] - 539s - loss: 0.3102 - acc: 0.8917 - val_loss: 1.0288 - val_acc: 0.6968\n",
      "Epoch 22/25\n",
      "50000/50000 [==============================] - 536s - loss: 0.2920 - acc: 0.8974 - val_loss: 1.0446 - val_acc: 0.6975\n",
      "Epoch 23/25\n",
      "50000/50000 [==============================] - 535s - loss: 0.2774 - acc: 0.9034 - val_loss: 1.0553 - val_acc: 0.7001\n",
      "Epoch 24/25\n",
      "50000/50000 [==============================] - 535s - loss: 0.2649 - acc: 0.9066 - val_loss: 1.0765 - val_acc: 0.6989\n",
      "Epoch 25/25\n",
      "50000/50000 [==============================] - 535s - loss: 0.2513 - acc: 0.9125 - val_loss: 1.0758 - val_acc: 0.6988\n"
     ]
    },
    {
     "data": {
      "text/plain": [
       "<keras.callbacks.History at 0x1215d0cf8>"
      ]
     },
     "execution_count": 7,
     "metadata": {},
     "output_type": "execute_result"
    }
   ],
   "source": [
    "model.fit(X_train, y_train, validation_data=(X_test, y_test), epochs=epochs, batch_size=32)"
   ]
  },
  {
   "cell_type": "code",
   "execution_count": 8,
   "metadata": {},
   "outputs": [
    {
     "name": "stdout",
     "output_type": "stream",
     "text": [
      "Accuracy: 69.88%\n"
     ]
    }
   ],
   "source": [
    "scores = model.evaluate(X_test, y_test, verbose=0)\n",
    "print(\"Accuracy: %.2f%%\" % (scores[1]*100))"
   ]
  },
  {
   "cell_type": "code",
   "execution_count": null,
   "metadata": {},
   "outputs": [],
   "source": []
  }
 ],
 "metadata": {
  "kernelspec": {
   "display_name": "Python [conda env:tensorflow]",
   "language": "python",
   "name": "conda-env-tensorflow-py"
  },
  "language_info": {
   "codemirror_mode": {
    "name": "ipython",
    "version": 3
   },
   "file_extension": ".py",
   "mimetype": "text/x-python",
   "name": "python",
   "nbconvert_exporter": "python",
   "pygments_lexer": "ipython3",
   "version": "3.6.3"
  }
 },
 "nbformat": 4,
 "nbformat_minor": 2
}
